{
  "cells": [
    {
      "cell_type": "markdown",
      "metadata": {
        "id": "view-in-github",
        "colab_type": "text"
      },
      "source": [
        "<a href=\"https://colab.research.google.com/github/OscarLoHe/Simulaci-n-2/blob/main/notas_sobre_python_modif.ipynb\" target=\"_parent\"><img src=\"https://colab.research.google.com/assets/colab-badge.svg\" alt=\"Open In Colab\"/></a>"
      ]
    },
    {
      "cell_type": "markdown",
      "metadata": {
        "id": "4bwoZ_8LRxSg"
      },
      "source": [
        "## Listas"
      ]
    },
    {
      "cell_type": "markdown",
      "metadata": {
        "id": "f360FgPlRxSl"
      },
      "source": [
        "Una **lista** es una colección ordenada de objetos, que pueden ser de distintos tipos. Las listas pueden ser modificadas  y se pueden realizar varias operaciones con ellas mediante funciones de Python."
      ]
    },
    {
      "cell_type": "markdown",
      "metadata": {
        "id": "rlPFqOxLRxSn"
      },
      "source": [
        "Se pueden definir mediante corchetes [ ], entre los cuales se escriben los objetos separados por comas. Así, son listas:"
      ]
    },
    {
      "cell_type": "code",
      "execution_count": null,
      "metadata": {
        "id": "mvcR1viiRxSo"
      },
      "outputs": [],
      "source": [
        "l = []\n",
        "\n",
        "m = [1,2,2]\n",
        "\n",
        "lista = [1,2,3,4,5, 'a', 'b', 'c', [1,2], [3, 'c']]"
      ]
    },
    {
      "cell_type": "code",
      "execution_count": null,
      "metadata": {
        "id": "mDqfr5NARxSr"
      },
      "outputs": [],
      "source": [
        "type(l)  # La función type() devuelve el tipo de objeto que es el argumento"
      ]
    },
    {
      "cell_type": "code",
      "execution_count": null,
      "metadata": {
        "id": "CXoRubMiRxSs"
      },
      "outputs": [],
      "source": [
        "type(m)"
      ]
    },
    {
      "cell_type": "markdown",
      "metadata": {
        "id": "2K6ezBrqRxSt"
      },
      "source": [
        "Las listas son iterables: podemos recorrer sus elementos mediante un bucle:"
      ]
    },
    {
      "cell_type": "code",
      "execution_count": null,
      "metadata": {
        "id": "_zcWRhvTRxSt"
      },
      "outputs": [],
      "source": [
        "for i in lista:\n",
        "    print(i)"
      ]
    },
    {
      "cell_type": "markdown",
      "metadata": {
        "id": "Uc_KC8InRxSu"
      },
      "source": [
        "Se puede acceder a cada elemento de la lista indicando su posición en ella:"
      ]
    },
    {
      "cell_type": "code",
      "execution_count": null,
      "metadata": {
        "id": "wMhuIsEnRxSv"
      },
      "outputs": [],
      "source": [
        "lista[0]"
      ]
    },
    {
      "cell_type": "markdown",
      "metadata": {
        "id": "vJvG13NeRxSw"
      },
      "source": [
        "Y se puede reemplazar alguno de sus elementos indicando el nuevo valor:"
      ]
    },
    {
      "cell_type": "code",
      "execution_count": null,
      "metadata": {
        "id": "lFz6smMPRxSx"
      },
      "outputs": [],
      "source": [
        "lista[0] = 100"
      ]
    },
    {
      "cell_type": "code",
      "execution_count": null,
      "metadata": {
        "id": "4zm-DD3RRxSx"
      },
      "outputs": [],
      "source": [
        "print(lista)"
      ]
    },
    {
      "cell_type": "markdown",
      "metadata": {
        "id": "hJajjgoeRxSy"
      },
      "source": [
        "### Ejercicio:\n",
        "\n",
        "¿Cómo accedemos al elemento 'c' de la lista [3, 'c'] dentro de lista?"
      ]
    },
    {
      "cell_type": "markdown",
      "metadata": {
        "id": "4p96_aXCRxSy"
      },
      "source": [
        "Con el operador **in** podemos comprobar si un determinado **valor** está en la lista: dará True si está y False si no está."
      ]
    },
    {
      "cell_type": "code",
      "execution_count": null,
      "metadata": {
        "id": "f4u7QVr2RxSy"
      },
      "outputs": [],
      "source": [
        "1 in lista"
      ]
    },
    {
      "cell_type": "markdown",
      "metadata": {
        "id": "zPDiOhXORxSz"
      },
      "source": [
        "Las listas se pueden sumar y multiplicar"
      ]
    },
    {
      "cell_type": "code",
      "execution_count": null,
      "metadata": {
        "id": "r-PmAcMzRxSz"
      },
      "outputs": [],
      "source": [
        "a = [1, 2, 3, 4, 5]\n",
        "b = [6,7,8,9,10]"
      ]
    },
    {
      "cell_type": "code",
      "execution_count": null,
      "metadata": {
        "id": "fWcYI_j-RxS0"
      },
      "outputs": [],
      "source": [
        "a + b"
      ]
    },
    {
      "cell_type": "code",
      "execution_count": null,
      "metadata": {
        "id": "fUX_q1aPRxS0"
      },
      "outputs": [],
      "source": [
        "2*b        # Observar el resultado"
      ]
    },
    {
      "cell_type": "markdown",
      "metadata": {
        "id": "k_kapNQqRxS1"
      },
      "source": [
        "La función **sum( )** devuelve la suma de los elementos de listas numéricas."
      ]
    },
    {
      "cell_type": "code",
      "execution_count": null,
      "metadata": {
        "id": "mtEktVRNRxS1"
      },
      "outputs": [],
      "source": [
        "sum(a)"
      ]
    },
    {
      "cell_type": "markdown",
      "metadata": {
        "id": "UWx89N7LRxS2"
      },
      "source": [
        "La función **len( )** devuelve el número de elementos de la lista."
      ]
    },
    {
      "cell_type": "code",
      "execution_count": null,
      "metadata": {
        "id": "6RPKUU-SRxS2"
      },
      "outputs": [],
      "source": [
        "len(l)"
      ]
    },
    {
      "cell_type": "markdown",
      "metadata": {
        "id": "8RSk0lDGRxS2"
      },
      "source": [
        "### Ejercicio:"
      ]
    },
    {
      "cell_type": "markdown",
      "metadata": {
        "id": "5sZ-TUcPRxS3"
      },
      "source": [
        "Calcular el promedio de:\n",
        "\n",
        "* a\n",
        "* b\n",
        "* 5a ¿Es igual a 5*(promedio de a)?\n",
        "* a + b ¿Es igual a la suma de los promedios?\n",
        "\n",
        "\n"
      ]
    },
    {
      "cell_type": "markdown",
      "metadata": {
        "id": "I7tZxfKpRxS3"
      },
      "source": [
        "También se puede acceder a los elementos de una lista por rangos."
      ]
    },
    {
      "cell_type": "code",
      "execution_count": null,
      "metadata": {
        "id": "jGDbS1S9RxS3"
      },
      "outputs": [],
      "source": [
        "a[1:]"
      ]
    },
    {
      "cell_type": "code",
      "execution_count": null,
      "metadata": {
        "id": "c-URakBkRxS3"
      },
      "outputs": [],
      "source": [
        "a[:2]"
      ]
    },
    {
      "cell_type": "code",
      "execution_count": null,
      "metadata": {
        "id": "IM5zH73hRxS4"
      },
      "outputs": [],
      "source": [
        "a[3:5]"
      ]
    },
    {
      "cell_type": "code",
      "execution_count": null,
      "metadata": {
        "id": "RZZq9w93RxS4"
      },
      "outputs": [],
      "source": [
        "a[::2]"
      ]
    },
    {
      "cell_type": "markdown",
      "metadata": {
        "id": "zGYL6FfURxS5"
      },
      "source": [
        "La función **append( )** agrega un elemento al final de la lista."
      ]
    },
    {
      "cell_type": "markdown",
      "metadata": {
        "id": "nEZoaUrRRxS5"
      },
      "source": [
        "### Ejercicio:\n",
        "\n",
        "1 Generar una lista de 20 números aleatorios.\n",
        "\n",
        "2 Obtener el promedio de los 10 últimos números generados."
      ]
    },
    {
      "cell_type": "code",
      "execution_count": null,
      "metadata": {
        "id": "rVhxZuiIRxS5"
      },
      "outputs": [],
      "source": []
    },
    {
      "cell_type": "code",
      "execution_count": null,
      "metadata": {
        "id": "WURotJeyRxS6"
      },
      "outputs": [],
      "source": []
    },
    {
      "cell_type": "markdown",
      "metadata": {
        "id": "Hho5H4BVRxS6"
      },
      "source": [
        "## Diccionarios"
      ]
    },
    {
      "cell_type": "markdown",
      "metadata": {
        "id": "rvuGlGQaRxS6"
      },
      "source": [
        "Un **diccionario** es una estructura de datos que almacena conjuntos de pares **clave-valor**."
      ]
    },
    {
      "cell_type": "markdown",
      "metadata": {
        "id": "V0W-ponlRxS6"
      },
      "source": [
        "Para definir un diccionario se escribe un listado entre llaves, {}, mediante un sistema de pares clave-valor. Las entredas se separan por comas y la clave se separa del valor mediante dos puntos, :."
      ]
    },
    {
      "cell_type": "code",
      "execution_count": null,
      "metadata": {
        "id": "INvRNttORxS7"
      },
      "outputs": [],
      "source": [
        "diccionario = {'Nombre': 'Isaac', 'Edad':'22', 'Cursos':['Ecuaciones','Simulación','Operaciones']}"
      ]
    },
    {
      "cell_type": "code",
      "execution_count": null,
      "metadata": {
        "id": "TvFRTbwHRxTG"
      },
      "outputs": [],
      "source": [
        "diccionario['Nombre']"
      ]
    },
    {
      "cell_type": "code",
      "execution_count": null,
      "metadata": {
        "id": "7eeVrKhmRxTG"
      },
      "outputs": [],
      "source": [
        "diccionario['Cursos'][1]"
      ]
    },
    {
      "cell_type": "markdown",
      "metadata": {
        "id": "rm5aegl0RxTH"
      },
      "source": [
        "La función **dict( )** permite crear un diccionario:"
      ]
    },
    {
      "cell_type": "code",
      "execution_count": null,
      "metadata": {
        "id": "OiP8g1epRxTH"
      },
      "outputs": [],
      "source": [
        "d = dict(a=1, b=2, c=3)"
      ]
    },
    {
      "cell_type": "code",
      "execution_count": null,
      "metadata": {
        "id": "sRdhUcImRxTI"
      },
      "outputs": [],
      "source": [
        "print(d)"
      ]
    },
    {
      "cell_type": "code",
      "execution_count": null,
      "metadata": {
        "id": "nnzwiwJlRxTI"
      },
      "outputs": [],
      "source": [
        "type(d)"
      ]
    },
    {
      "cell_type": "code",
      "execution_count": null,
      "metadata": {
        "id": "hEEl14NsRxTJ"
      },
      "outputs": [],
      "source": [
        "len(d)"
      ]
    },
    {
      "cell_type": "markdown",
      "metadata": {
        "id": "LOBIRH4wRxTK"
      },
      "source": [
        "Con el operador in podemos comprobar si una determinada **clave** está en el diccionario: dará True si está y False si no está."
      ]
    },
    {
      "cell_type": "code",
      "execution_count": null,
      "metadata": {
        "id": "hUL1H6JsRxTK"
      },
      "outputs": [],
      "source": [
        "'a' in d"
      ]
    },
    {
      "cell_type": "markdown",
      "metadata": {
        "id": "fzHEM2QsRxTL"
      },
      "source": [
        "Las diccionarios son iterables: podemos recorrer sus elementos mediante un bucle:"
      ]
    },
    {
      "cell_type": "code",
      "execution_count": null,
      "metadata": {
        "id": "IEpgRDj4RxTL"
      },
      "outputs": [],
      "source": [
        "for key in diccionario:\n",
        "    print(key, \":\", diccionario[key])"
      ]
    },
    {
      "cell_type": "markdown",
      "metadata": {
        "id": "oMTe-pSCRxTM"
      },
      "source": [
        "**items()** devuelve las tuplas clave-valor del diccionario."
      ]
    },
    {
      "cell_type": "code",
      "execution_count": null,
      "metadata": {
        "id": "TeMwu-60RxTM"
      },
      "outputs": [],
      "source": [
        "diccionario.items()"
      ]
    },
    {
      "cell_type": "markdown",
      "metadata": {
        "id": "hM5IfLwbRxTN"
      },
      "source": [
        "**items()** devuelve una tupla, lo cual permite verificar si un par clave-valor está en el diccionario."
      ]
    },
    {
      "cell_type": "code",
      "execution_count": null,
      "metadata": {
        "id": "DTgIs2eoRxTN"
      },
      "outputs": [],
      "source": [
        "('a',1) in d.items()"
      ]
    },
    {
      "cell_type": "markdown",
      "metadata": {
        "id": "4JJy0ScKRxTO"
      },
      "source": [
        "**values()** devuelve una lista de los valores del diccionario."
      ]
    },
    {
      "cell_type": "code",
      "execution_count": null,
      "metadata": {
        "id": "l1yyQysMRxTO"
      },
      "outputs": [],
      "source": [
        "diccionario.values()"
      ]
    },
    {
      "cell_type": "code",
      "execution_count": null,
      "metadata": {
        "id": "nOaOQqeqRxTP"
      },
      "outputs": [],
      "source": []
    }
  ],
  "metadata": {
    "kernelspec": {
      "display_name": "Python 3",
      "language": "python",
      "name": "python3"
    },
    "language_info": {
      "codemirror_mode": {
        "name": "ipython",
        "version": 3
      },
      "file_extension": ".py",
      "mimetype": "text/x-python",
      "name": "python",
      "nbconvert_exporter": "python",
      "pygments_lexer": "ipython3",
      "version": "3.7.3"
    },
    "colab": {
      "provenance": [],
      "include_colab_link": true
    }
  },
  "nbformat": 4,
  "nbformat_minor": 0
}